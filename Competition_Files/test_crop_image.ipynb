{
 "cells": [
  {
   "cell_type": "code",
   "execution_count": null,
   "metadata": {},
   "outputs": [],
   "source": [
    "import numpy as np\n",
    "import matplotlib.pyplot as plt\n",
    "import os\n",
    "import cv2\n",
    "import random\n",
    "from sklearn.model_selection import train_test_split\n",
    "\n",
    "\n",
    "# constants\n",
    "DATADIR = \"./test_data/\"\n",
    "SAVEDIR = \"./new_data/\"\n",
    "CATEGORIES = [\"person\", \"bike\", \"car\"]"
   ]
  },
  {
   "cell_type": "code",
   "execution_count": null,
   "metadata": {},
   "outputs": [],
   "source": [
    "# text sparse, store into arrays\n",
    "string = ['thermal_00002.jpeg', '3', '396', '200', '543', '250']\n",
    "\n",
    "image_file = [string[0]]\n",
    "class_id = [int(string[1])-1]\n",
    "x_min = [int(string[2])]\n",
    "y_min = [int(string[3])]\n",
    "x_max = [int(string[4])]\n",
    "y_max = [int(string[5])]"
   ]
  },
  {
   "cell_type": "code",
   "execution_count": null,
   "metadata": {},
   "outputs": [],
   "source": [
    "# crop images and separate into classes\n",
    "\n",
    "for index in range(len(image_file)):\n",
    "    # load image\n",
    "    path = os.path.join(DATADIR, image_file[index])\n",
    "    img_array = cv2.imread(path, cv2.IMREAD_GRAYSCALE)\n",
    "\n",
    "    # check if image loaded successfully\n",
    "    if img_array is None:\n",
    "        raise FileNotFoundError(f\"Error: Image '{image_file}' not found at '{DATADIR}'.\")\n",
    "\n",
    "    # crop image\n",
    "    cropped_image = img_array[y_min[index]:y_max[index], x_min[index]:x_max[index]]\n",
    "\n",
    "    # save into respective class folder in 'new_data' folder\n",
    "    save_path = os.path.join(SAVEDIR, CATEGORIES[class_id[index]])\n",
    "    os.makedirs(save_path, exist_ok=True)\n",
    "\n",
    "    cv2.imwrite(save_path+f'/image_{index}.jpeg', cropped_image)\n",
    "\n",
    "\n",
    "\n",
    "    ### DELETE ALL BELOW FOR ACTUAL RUN \n",
    "    # display images and sizes\n",
    "    print(img_array.shape)\n",
    "    print(cropped_image.shape)\n",
    "    plt.imshow(img_array, cmap=\"gray\")\n",
    "    plt.show()\n",
    "    plt.imshow(cropped_image, cmap=\"gray\")\n",
    "    plt.show()"
   ]
  }
 ],
 "metadata": {
  "kernelspec": {
   "display_name": "Python 3",
   "language": "python",
   "name": "python3"
  },
  "language_info": {
   "codemirror_mode": {
    "name": "ipython",
    "version": 3
   },
   "file_extension": ".py",
   "mimetype": "text/x-python",
   "name": "python",
   "nbconvert_exporter": "python",
   "pygments_lexer": "ipython3",
   "version": "3.11.2"
  }
 },
 "nbformat": 4,
 "nbformat_minor": 2
}
